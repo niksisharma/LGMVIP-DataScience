{
  "nbformat": 4,
  "nbformat_minor": 0,
  "metadata": {
    "colab": {
      "name": "pencil sketch.ipynb",
      "provenance": [],
      "authorship_tag": "ABX9TyNeC4qxBba4uz/QudFZ14QL",
      "include_colab_link": true
    },
    "kernelspec": {
      "name": "python3",
      "display_name": "Python 3"
    },
    "language_info": {
      "name": "python"
    }
  },
  "cells": [
    {
      "cell_type": "markdown",
      "metadata": {
        "id": "view-in-github",
        "colab_type": "text"
      },
      "source": [
        "<a href=\"https://colab.research.google.com/github/niksisharma/LGMVIP-DataScience/blob/main/pencil_sketch.ipynb\" target=\"_parent\"><img src=\"https://colab.research.google.com/assets/colab-badge.svg\" alt=\"Open In Colab\"/></a>"
      ]
    },
    {
      "cell_type": "markdown",
      "metadata": {
        "id": "w0CEx9y96yUb"
      },
      "source": [
        "Task 2: CONVERTING IMAGE TO PENCIL SKETCH"
      ]
    },
    {
      "cell_type": "markdown",
      "metadata": {
        "id": "OE6M84QF6mkk"
      },
      "source": [
        "Importing Libraries"
      ]
    },
    {
      "cell_type": "code",
      "metadata": {
        "id": "4jb9_s406pP5"
      },
      "source": [
        "import cv2\n",
        "from IPython.display import Image\n",
        "from google.colab.patches import cv2_imshow"
      ],
      "execution_count": 12,
      "outputs": []
    },
    {
      "cell_type": "markdown",
      "metadata": {
        "id": "Z39gl88DDQCN"
      },
      "source": [
        "Reading Original Image"
      ]
    },
    {
      "cell_type": "code",
      "metadata": {
        "colab": {
          "base_uri": "https://localhost:8080/",
          "height": 145
        },
        "id": "yCDCTJC0DVYW",
        "outputId": "f5a8708f-0531-4e4b-a0c7-bd2e14cc91a7"
      },
      "source": [
        "image = cv2.imread(\"C:\\Users\\Nikita Sharma\\Downloads\\Frog hoodie.jpg\")\n",
        "cv2_imshow(image)"
      ],
      "execution_count": 16,
      "outputs": [
        {
          "output_type": "error",
          "ename": "SyntaxError",
          "evalue": "ignored",
          "traceback": [
            "\u001b[0;36m  File \u001b[0;32m\"<ipython-input-16-8b1b917f1454>\"\u001b[0;36m, line \u001b[0;32m1\u001b[0m\n\u001b[0;31m    image = cv2.imread(\"C:\\Users\\Nikita Sharma\\Downloads\\Frog hoodie.jpg\")\u001b[0m\n\u001b[0m                      ^\u001b[0m\n\u001b[0;31mSyntaxError\u001b[0m\u001b[0;31m:\u001b[0m (unicode error) 'unicodeescape' codec can't decode bytes in position 2-3: truncated \\UXXXXXXXX escape\n"
          ]
        }
      ]
    },
    {
      "cell_type": "code",
      "metadata": {
        "id": "7AKoyg7-7BSa"
      },
      "source": [
        ""
      ],
      "execution_count": 12,
      "outputs": []
    }
  ]
}